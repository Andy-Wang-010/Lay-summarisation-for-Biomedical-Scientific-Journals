{
  "nbformat": 4,
  "nbformat_minor": 0,
  "metadata": {
    "colab": {
      "provenance": []
    },
    "kernelspec": {
      "name": "python3",
      "display_name": "Python 3"
    },
    "language_info": {
      "name": "python"
    }
  },
  "cells": [
    {
      "cell_type": "code",
      "execution_count": null,
      "metadata": {
        "id": "zexInHdOyQsp"
      },
      "outputs": [],
      "source": [
        "import pandas as pd\n",
        "import numpy as np\n",
        "import json"
      ]
    },
    {
      "cell_type": "markdown",
      "source": [
        "# Load Ground-Truth Summaries"
      ],
      "metadata": {
        "id": "X0YipjQnM0xC"
      }
    },
    {
      "cell_type": "code",
      "source": [
        "with open(\"test_summaries.json\", 'r') as json_file:\n",
        "    ground_truth = np.array(json.load(json_file))\n",
        "print(len(ground_truth))\n",
        "print(ground_truth[0])"
      ],
      "metadata": {
        "colab": {
          "base_uri": "https://localhost:8080/"
        },
        "id": "1fm9TVCUMxNd",
        "outputId": "62209ba9-8388-48f8-c489-f2faf2d7974e"
      },
      "execution_count": null,
      "outputs": [
        {
          "output_type": "stream",
          "name": "stdout",
          "text": [
            "241\n",
            "Imagine a gymnastics competition in which participants take turns to cartwheel and somersault across the floor . The routines on display comprise sequences of precisely timed movements learned through practice . This is also true for many of the actions we perform every day , such as reaching for a cup of coffee . A region of the brain called the cerebellum helps us learn sequences of movements . But how does it do this ? To find out , Khilkevich et al . came up with a new version of an old experiment . Rabbits were first trained to blink their eye in response to a specific external cue . This type of learning , called associative learning , has been shown before in the cerebellum . But Khilkevich et al . wondered whether the cerebellum could also use internal feedback signals from the eyeblink as a cue to learn the next movement ? If so , this might explain how the cerebellum can chain movements together in a sequence . As predicted , Khilkevich et al . found that rabbits could learn to blink their eye in response to an initial signal , and then blink again in response to the first blink . Control experiments confirmed that the second eyeblink was coupled to the first , and not to the original cue . Moreover , on many trials the rabbits showed a third and even fourth eyeblink . This is because feedback signals from the first , second or third blink were the same . Thus , the feedback signals from the first blink triggered the second blink , feedback from the second triggered the third , and so forth . Rabbits could also learn to use a blink of the left eye as a cue for a blink of the right eye . Similar patterns of neuronal activity accompanied each blink , suggesting that the same mechanism generated them all . The cerebellum can thus use feedback from one movement as a cue to learn the proper timing of the next movement in a sequence . A key question is whether this mechanism of sequence learning extends beyond movement . The cerebellum has extensive connections to the brain’s outer layer , the cortex , including many areas involved in cognition . Future experiments should test whether the cerebellum might help guide sequences of cortical activity during cognitive tasks .\n"
          ]
        }
      ]
    },
    {
      "cell_type": "code",
      "source": [
        "abstracts = np.load(\"abstract.npy\")"
      ],
      "metadata": {
        "id": "2sftLaSf1EBn"
      },
      "execution_count": null,
      "outputs": []
    },
    {
      "cell_type": "markdown",
      "source": [
        "# Load Generated Summaries"
      ],
      "metadata": {
        "id": "d-8BU2VAMxkM"
      }
    },
    {
      "cell_type": "code",
      "source": [
        "xlarge_4k = np.load('gen_sums_finetuned_andy_xLarge_4k.npy')\n",
        "xlarge_2k = np.load('gen_sums_finetuned_andy_xLarge_2k.npy')\n",
        "xbase_4k = np.load('gen_sums_finetuned_andy_xbase_4k.npy')\n",
        "xbase_2k = np.load('gen_sums_finetuned_andy_xbase_2k.npy')\n",
        "xbase_nf= np.load('gen_sums_non_finetuned_andy_Xbase.npy')\n",
        "xlarge_nf = np.load('gen_sums_non_finetuned_andy_Xlarge.npy')\n",
        "gpt_base = np.load('gpt_baseline.npy')\n",
        "lead_base = np.load('leadK_synonyms_baseline.npy')\n",
        "\n",
        "lst = [lead_base, gpt_base, xlarge_nf, xbase_nf, xbase_2k, xbase_4k, xlarge_2k, xlarge_4k]"
      ],
      "metadata": {
        "id": "fjq3mNfwIlaH"
      },
      "execution_count": null,
      "outputs": []
    },
    {
      "cell_type": "code",
      "source": [
        "for i in lst:\n",
        "  print(len(i))\n",
        "for i in lst:\n",
        "  print(i[0])"
      ],
      "metadata": {
        "colab": {
          "base_uri": "https://localhost:8080/"
        },
        "id": "kxYYX-_kL8yF",
        "outputId": "4ab8b81d-4799-4402-bd3e-c1ea12981b00"
      },
      "execution_count": null,
      "outputs": [
        {
          "output_type": "stream",
          "name": "stdout",
          "text": [
            "241\n",
            "241\n",
            "241\n",
            "241\n",
            "241\n",
            "241\n",
            "241\n",
            "241\n",
            "Most movements are comprised of sequences . From the complex routines that gymnast perform to intricate dance numbers to simply reaching for an object , our movements are comprised of sequences of movements that are learned through practice . The cerebellum has been long concerned in learning and execution of accurate movements ( Doyon et al . , 1997 ; Shin and Ivry , 2003 ; Lehéricy et al . , 2005 ; Krupa et al . , 1993 ; Lisberger , 1994 ; Diener and Dichgans , 1992 ) . Movement sequences as well as multi-joint movements are particularly sensitive to cerebellar dysfunction ( Shin and Ivry , 2003 ; Diener and Dichgans , 1992 ; Doyon et al . , 2002 ) . For example , one of the trademark deficits of cerebellar pathology is dysdiadochokinesia ( Diener and Dichgans , 1992 ) – an inability to perform a rapid alternating sequence of movements . To test the hypothesis that the cerebellum can use feedback signals from a movement as the cue for the next movement in a sequence , we started by training rabbits using electrical stimulation of stick-in-the-mud fibers as a cue ( to which we refer as the conditioned stimulus or CS ) . All subjects ( New Zealand albino rabbits ) were initially trained by pairing a stick-in-the-mud fiber stimulation CS with a reward unconditional stimulus ( US , electrical stimulation of the skin near the eye ) . The inter-stimulus interval ( ISI ) between CS onset and US onset was 500 ms . As has been previously demonstrated , this training yields robust and well-timed conditioned lid responses in response to the stick-in-the-mud fiber CS ( Steinmetz et al . , 1985 ; Kalmbach et al . , 2011 ) . Example conditioned lid responses are shown in Figure 2A . Use of stick-in-the-mud fiber stimulation as the CS ensured that the CS was restricted to the cerebellum and did not spread to areas that could provide a delayed secondary input to the cerebellum ( Siegel and Mauk , 2013 ; Halverson et al . , 2010 ) , which can be the case for auditory input commonly used in lid conditioning . While we have demonstrated the enough of F from an lid CR to be used by the cerebellum as a new ‘ CS ’ , the nature and source of this F remains an open question . Several sources of feedback are possible . The most direct candidate feedback route would start from the deep cerebellar nucleus neurons ( DCN ) , which provide the output of the cerebellum . Increases in DCN neuron activity are known to drive the expression of lid Cr ( Halverson et al . , 2010 ; McCormick and Thompson , 1984 ) . DCN neurons are also known to have axon collateral that return to the cerebellar cortex ( Houck and Person , 2015 ; Ankri et al . , 2015 ; GAO et al . , 2016 ) and form mossy-fiber like synaptic connections . In all experiments subjects were 14 male New Zealand albino rabbits weighing 2 . 5–3 . 5 kg at experiment onset . Treatment of rabbits and surgical procedures were in accordance with National Institutes of Health guidelines and an institutionally approved animal welfare protocol . All subjects were maintained on a 12 hr light/dark cycle . One week before the start of experiment , subjects were removed from the home cage and drug with a cocktail of acepromazine ( 1 . 5 mg/kg ) and ketamine ( 45 mg/kg ) . After onset of anesthesia , the subjects were placed in a stereotaxic frame , insert , and maintained on inhalation_anesthetic ( 1~2 % mixed in oxygen ) for the remainder of the surgery .\n",
            "Movements are made up of sequences that are learned through practice. The cerebellum has been associated with learning and executing accurate movements and movement sequences. Research has been done to test if the cerebellum can use feedback signals from a movement as a cue for the next movement in a sequence. Experiments were conducted using rabbits to test this hypothesis. Results showed that the cerebellum can learn to chain together a sequence of inter-connected movement components by using feedback signals from one component to serve as a cue for the next component in the sequence.\n",
            "We designed two control experiments and performed additional analyses on training session data as a formulation of these predictions to test relatively directly whether the second CR in a sequence ( second left eyelid CR in ipsilateral protocol and right eyelid CR in contralateral protocol ) is driven by FS from the first CR and not by the mossy fiber stimulation CS itself.\n",
            "We???????????????????????????????????????????????????????????????????????????????????????????????????????????????????????????????????????????????????????????????????????????????\n",
            "The cerebellum is a part of the brain that controls the movement of the eye. The cerebellum is responsible for controlling the movement of the eyes, and it is also responsible for regulating the movement of the eyes. The cerebellum is also responsible for regulating the movement of the eyes, and it is thought that the cerebellum is responsible for regulating the movement of the eyes. However, it is not clear how the cerebellum controls the movement of the eyes, or how it controls the movement of the eyes. To address this question, Halverson et al. studied how the cerebellum controls the movement of the eyes. The experiments show that the cerebellum controls the movement of the eyes when the eyes are open. The results suggest that the cerebellum controls the movement of the eyes when the eyes are open. However, it is not clear how the cerebellum controls the movement of the eyes when the eyes are open. To address this question, Halverson et al. studied how the cerebellum controls the movement of the eyes when the eyes are open. The experiments show that the cerebellum controls the movement of the eyes when the eyes are open. The results suggest that the cerebellum controls the movement of the eyes when the eyes are open. However, it is not clear how the cerebellum controls the movement of the eyes when the eyes are open. To address this question, Halverson et al. studied how the cerebellum controls the movement of the eyes when the eyes are open. The experiments show that the cerebellum controls the movement of the eyes when the eyes are open. The results also suggest that the cerebellum controls the movement of the eyes when the eyes are open. This suggests that the cerebellum controls the movement of the eyes when the eyes are open, and that the cerebellum controls the movement of the eyes when the\n",
            "The cerebellum is a part of the brain that controls the movement of the eyes and other parts of the body. The cerebellum is responsible for controlling the movement of the eyes and other parts of the body, including the eyelids. The cerebellum is also responsible for controlling the movement of the eyes and other parts of the body, such as the eyes and the eyelids. The cerebellum is also responsible for controlling the movement of the eyes and other parts of the body, such as the eyes and the eyelids. However, it is not clear how the cerebellum is able to control the movement of the eyes and other parts of the body. To address this question, Halverson et al. studied how the cerebellum controls the movement of the eyes and other parts of the body. The experiments show that the cerebellum is able to control the movement of the eyes and other parts of the body, but not the movement of the eyes and other parts of the body. The experiments also show that the cerebellum is able to control the movement of the eyes and other parts of the body, but not the movement of the eyes and other parts of the body. This suggests that the cerebellum is able to control the movement of the eyes and other parts of the body, but not the movement of the eyes and other parts of the body. The findings of Halverson et al. suggest that the cerebellum is able to control the movement of the eyes and other parts of the body, but not the movement of the eyes and other parts of the body.\n",
            "Nerve cells in the brain send signals to the muscles that control the eyes, ears, and nose. These signals can be triggered by a variety of stimuli, such as light, sound, or touch. For example, when the eyes open, the brain sends a signal to the muscles that control the eyes, ears, and nose. These signals can be triggered by a variety of stimuli, such as light, sound, or touch. For example, when the eyes open, the brain sends a signal to the muscles that control the eyes, ears, and nose. These signals can be triggered by a variety of stimuli, such as light, sound, or touch. For example, when the eyes open, the brain sends a signal to the muscles that control the eyes, ears, and nose. These signals can be triggered by a variety of stimuli, such as light, sound, or touch. For example, when the eyes open, the brain sends a signal to the muscles that control the eyes, ears, and nose. These signals can be triggered by a variety of stimuli, such as light, sound, or touch. For example, when the eyes open, the brain sends a signal to the muscles that control the eyes, ears, and nose. These signals can be triggered by a variety of stimuli, such as light, sound, or touch. For example, when the eyes open, the brain sends a signal to the muscles that control the eyes, ears, and nose. These signals can be triggered by a variety of stimuli, such as light, sound, or touch. For example,\n",
            "In the blink of an eye, the brain sends a message to the eyes, telling them to move. The brain then sends a second message to the eyes, telling them to move again. The brain then sends a third message to the eyes, telling them to move again. The brain then sends a fourth message to the eyes, telling them to move again. The brain then sends a fifth message to the eyes, telling them to move again. The brain then sends a sixth message to the eyes, telling them to move again. The brain then sends a seventh message to the eyes, telling them to move again. The brain then sends a third message to the eyes, telling them to move again. The brain then sends a fourth message to the eyes, telling them to move again. The brain then sends a fifth message to the eyes, telling them to move again. The brain then sends a sixth message to the eyes, telling them to move again. The brain then sends a seventh message to the eyes, telling them to move again. The brain then sends a third message to the eyes, telling them to move again. The brain then sends a fourth message to the eyes, telling them to move again. The brain then sends a fifth message to the eyes, telling them to move again. The brain then sends a sixth message to the eyes, telling them to move again. The brain then sends a third message to the eyes, telling them to move again. The brain then sends a fourth message to the eyes, telling them to move again. The brain then sends a fifth message to the eyes, telling them to move again. The brain then sends a sixth message to the eyes, telling them to\n"
          ]
        }
      ]
    },
    {
      "cell_type": "markdown",
      "source": [
        "#Make CSV"
      ],
      "metadata": {
        "id": "VLKmPamoTdkF"
      }
    },
    {
      "cell_type": "markdown",
      "source": [
        "Get 100 random indices"
      ],
      "metadata": {
        "id": "k8TAocZiWbkx"
      }
    },
    {
      "cell_type": "code",
      "source": [
        "#get random 100 summaries\n",
        "indices = np.arange(241)\n",
        "\n",
        "# Set the random seed for reproducibility (optional)\n",
        "np.random.seed(42)\n",
        "# Randomly choose 100 values from the array\n",
        "random_indices = np.random.choice(indices, size=100, replace=False)"
      ],
      "metadata": {
        "id": "PFWnFAepOe5c"
      },
      "execution_count": null,
      "outputs": []
    },
    {
      "cell_type": "markdown",
      "source": [
        "Select the 100 random summaries"
      ],
      "metadata": {
        "id": "1bad0rtyWeXv"
      }
    },
    {
      "cell_type": "code",
      "source": [
        "for i in range(len(lst)):\n",
        "  lst[i] = lst[i][random_indices]\n",
        "  print(len(lst[i]))\n",
        "\n",
        "ground_truth_100 = ground_truth[random_indices]\n",
        "abstracts_100 = abstracts[random_indices]\n",
        "print(len(ground_truth_100))\n",
        "print(len(abstracts_100))"
      ],
      "metadata": {
        "colab": {
          "base_uri": "https://localhost:8080/"
        },
        "id": "XO5sltAXT8EC",
        "outputId": "84253e54-d5b3-42db-bf14-79c94d46d672"
      },
      "execution_count": null,
      "outputs": [
        {
          "output_type": "stream",
          "name": "stdout",
          "text": [
            "100\n",
            "100\n",
            "100\n",
            "100\n",
            "100\n",
            "100\n",
            "100\n",
            "100\n",
            "100\n",
            "100\n"
          ]
        }
      ]
    },
    {
      "cell_type": "markdown",
      "source": [
        "Create DataFrame"
      ],
      "metadata": {
        "id": "Etc1On0tXS8r"
      }
    },
    {
      "cell_type": "code",
      "source": [
        "# Create a dictionary of arrays\n",
        "data = {\n",
        "    'ground_truth': ground_truth_100,\n",
        "    'abstract': abstracts_100,\n",
        "    'leadk_syn_base': lst[0],\n",
        "    'gpt_base': lst[1],\n",
        "    'non_ft_xLarge': lst[2],\n",
        "    'non_ft_xBase': lst[3],\n",
        "    'xBase_2k': lst[4],\n",
        "    'xBase_4k': lst[5],\n",
        "    'xLarge_2k': lst[6],\n",
        "    'xLarge_4k': lst[7]\n",
        "}\n",
        "# Create a DataFrame\n",
        "df = pd.DataFrame(data)"
      ],
      "metadata": {
        "id": "1CokXBLnVLm_"
      },
      "execution_count": null,
      "outputs": []
    },
    {
      "cell_type": "markdown",
      "source": [
        "Convert DF to CSV"
      ],
      "metadata": {
        "id": "aLz_p_wVZZYB"
      }
    },
    {
      "cell_type": "code",
      "source": [
        "df.to_csv('all_summaries_with_abstract.csv', index=False)"
      ],
      "metadata": {
        "id": "9umBP2-mXVYS"
      },
      "execution_count": null,
      "outputs": []
    },
    {
      "cell_type": "code",
      "source": [
        "df"
      ],
      "metadata": {
        "colab": {
          "base_uri": "https://localhost:8080/",
          "height": 1000
        },
        "id": "SEO42pnKZ2rA",
        "outputId": "79b73575-87a4-4c69-8a55-a25ef29bd276"
      },
      "execution_count": null,
      "outputs": [
        {
          "output_type": "execute_result",
          "data": {
            "text/plain": [
              "                                         ground_truth  \\\n",
              "0   Amblyopia , otherwise known as ‘lazy eye’ , is...   \n",
              "1   Surrounding every living cell is a biological ...   \n",
              "2   The brain of a developing fetus has a big job ...   \n",
              "3   On average , in Europe , men can currently exp...   \n",
              "4   A stem cell is a special cell that divides to ...   \n",
              "..                                                ...   \n",
              "95  In female mammals , eggs made in the ovaries t...   \n",
              "96  In the nucleus of a cell , the DNA that contai...   \n",
              "97  Cells respond to stressful conditions by chang...   \n",
              "98  The immune system protects against disease by ...   \n",
              "99  The lungs enable the exchange of gases between...   \n",
              "\n",
              "                                             abstract  \\\n",
              "0   Recovery from sensory deprivation is slow and ...   \n",
              "1   Membrane proteins are difficult to work with d...   \n",
              "2   Spontaneous retinal waves are critical for the...   \n",
              "3   Introduction: In Europe , women can expect to ...   \n",
              "4   Epithelial stem cells divide asymmetrically , ...   \n",
              "..                                                ...   \n",
              "95  Development of uterine endometrial receptivity...   \n",
              "96  Human chromosomes terminate in telomeres , rep...   \n",
              "97  In yeast and humans , previous experiences can...   \n",
              "98  Naive T cell precursor frequency determines th...   \n",
              "99  Alveolar formation increases the surface area ...   \n",
              "\n",
              "                                       leadk_syn_base  \\\n",
              "0   strip one eye of normal model vision during ea...   \n",
              "1   Membrane proteins play essential roles , such ...   \n",
              "2   Throughout the central nervous system , before...   \n",
              "3   Mortality projections are essential for figure...   \n",
              "4   Adult stem cell divisions produce asymmetric o...   \n",
              "..                                                ...   \n",
              "95  In placental mammals , dressing and preimplant...   \n",
              "96  Linear human chromosome end in G-rich telomeri...   \n",
              "97  Epigenetic transcriptional memory is a mitotic...   \n",
              "98  An individual pathogen encode thousands of pot...   \n",
              "99  Gas exchange , the essential function of the l...   \n",
              "\n",
              "                                             gpt_base  \\\n",
              "0   Depriving one eye of normal patterned vision d...   \n",
              "1   Membrane proteins are important for many tasks...   \n",
              "2   Specialized circuitry in the central nervous s...   \n",
              "3   Mortality projections are essential for predic...   \n",
              "4   Adult stem cell divisions usually produce two ...   \n",
              "..                                                ...   \n",
              "95  In eutherian mammals, fertilization and preimp...   \n",
              "96  Chromosomes have G-rich telomeric repeat DNA a...   \n",
              "97  Epigenetic transcriptional memory is a heritab...   \n",
              "98  The study investigated the relationship betwee...   \n",
              "99  Gas exchange, an essential function of the lun...   \n",
              "\n",
              "                                        non_ft_xLarge  \\\n",
              "0   ( A ) Responses to the contrast-modulated nois...   \n",
              "1   MalFGK2 ( 40 g ), FhuA ( 40 g ), and BRC ( 80 ...   \n",
              "2   To determine how the increasing speed, reliabi...   \n",
              "3   However, given that the past trend in e0 for n...   \n",
              "4   To investigate whether the downregulation of E...   \n",
              "..                                                ...   \n",
              "95  Furthermore, when zygotes were recovered from ...   \n",
              "96  If the stimulation of telomerase RAP and telom...   \n",
              "97  ChIP-seq against H3K4me3 and H3K4me2 in wild t...   \n",
              "98  The exclusively enlarged V11+ MCC tetramer+ po...   \n",
              "99  We found that Vangl2f/f; Dermo1Cre/+ and Vangl...   \n",
              "\n",
              "                                         non_ft_xBase  \\\n",
              "0   ( A ; B : ; ; ; s--------------               ...   \n",
              "1   5.,,,,,,,,,,,,,,,,,,,,,,,,,,,,,,,,,,,,,,,,,,,,...   \n",
              "2                               To::::::::::::::::: -   \n",
              "3   However,,,,,,,,,,,,,,,,,,,,,,,,,,,,,,,,,,,,,,,...   \n",
              "4   Specifically,,,,,,,,,,,,,,,,,,,,,,,,,,,,,,,,,,...   \n",
              "..                                                ...   \n",
              "95  Furthermore,,,,,,,,,,,,,,,,,,,,,,,,,,,,,,,,,,,...   \n",
              "96  Thus,,,,,,,,,,,,,,,,,,,,,,,,,,,,,,,,,,,,,,,,,,...   \n",
              "97  ChIPs H ;,,,,,,,,,,,,,,,,,,,,,,,,,,,,,,,,,,,,,...   \n",
              "98  The frequency of  ::::::::::::::::::::::::::::...   \n",
              "99  Loss Van,,,,,,,,,,,,,,,,,,,,,,,,,,,,,,,,,,,,,,...   \n",
              "\n",
              "                                             xBase_2k  \\\n",
              "0   The visual system of the eye is made up of man...   \n",
              "1   Proteins are made up of many different protein...   \n",
              "2   The nervous system is made up of neurons that ...   \n",
              "3   In the United States, for example, the number ...   \n",
              "4   The epithelial lining of a fruit fly is made u...   \n",
              "..                                                ...   \n",
              "95  The placenta is the mother’s placenta, which i...   \n",
              "96  The DNA inside a cell is wrapped around a stru...   \n",
              "97  Genes are made up of DNA, which contains the i...   \n",
              "98  The immune system is made up of many different...   \n",
              "99  Alveolar is a type of cell that is found in th...   \n",
              "\n",
              "                                             xBase_4k  \\\n",
              "0   The visual system is made up of many different...   \n",
              "1   Proteins are made up of many different types o...   \n",
              "2   Retinoblastoma is a type of brain cancer that ...   \n",
              "3   In the United States, for example, the number ...   \n",
              "4   The epithelial cells of the fruit fly Drosophi...   \n",
              "..                                                ...   \n",
              "95  Embryonic development is a complex process tha...   \n",
              "96  The DNA inside a cell is wrapped around a stru...   \n",
              "97  Transcriptional memory is the process by which...   \n",
              "98  The immune system recognizes and responds to i...   \n",
              "99  Alveolar is a type of lung cancer that is caus...   \n",
              "\n",
              "                                            xLarge_2k  \\\n",
              "0   The brain processes information in a variety o...   \n",
              "1   Proteins are the building blocks of the cell, ...   \n",
              "2   In the brain, the thalamus, which is located i...   \n",
              "3   Living longer is important for people’s health...   \n",
              "4   The human body contains many different types o...   \n",
              "..                                                ...   \n",
              "95  The oviduct is a compartment of the uterus tha...   \n",
              "96  Telomeric DNA stretches along the length of a ...   \n",
              "97  Genes are made up of hundreds of thousands of ...   \n",
              "98  The immune system is made up of many different...   \n",
              "99  The lungs are a vital part of the body, and ar...   \n",
              "\n",
              "                                            xLarge_4k  \n",
              "0   When we run, we need to be able to see the wor...  \n",
              "1   Proteins are made up of chains of amino acids ...  \n",
              "2   The visual system is made up of two parts: the...  \n",
              "3   Life expectancy has been rising steadily in Eu...  \n",
              "4   The human body is made up of many different ty...  \n",
              "..                                                ...  \n",
              "95  Many animals, including humans and mice, have ...  \n",
              "96  The length of a cell’s DNA is determined by th...  \n",
              "97  Genes are made up of long stretches of DNA, wh...  \n",
              "98  The immune system protects the body from infec...  \n",
              "99  Alveolar cells, which make up the lining of th...  \n",
              "\n",
              "[100 rows x 10 columns]"
            ],
            "text/html": [
              "\n",
              "  <div id=\"df-d70221cd-72b1-476f-94f6-bbb518929699\">\n",
              "    <div class=\"colab-df-container\">\n",
              "      <div>\n",
              "<style scoped>\n",
              "    .dataframe tbody tr th:only-of-type {\n",
              "        vertical-align: middle;\n",
              "    }\n",
              "\n",
              "    .dataframe tbody tr th {\n",
              "        vertical-align: top;\n",
              "    }\n",
              "\n",
              "    .dataframe thead th {\n",
              "        text-align: right;\n",
              "    }\n",
              "</style>\n",
              "<table border=\"1\" class=\"dataframe\">\n",
              "  <thead>\n",
              "    <tr style=\"text-align: right;\">\n",
              "      <th></th>\n",
              "      <th>ground_truth</th>\n",
              "      <th>abstract</th>\n",
              "      <th>leadk_syn_base</th>\n",
              "      <th>gpt_base</th>\n",
              "      <th>non_ft_xLarge</th>\n",
              "      <th>non_ft_xBase</th>\n",
              "      <th>xBase_2k</th>\n",
              "      <th>xBase_4k</th>\n",
              "      <th>xLarge_2k</th>\n",
              "      <th>xLarge_4k</th>\n",
              "    </tr>\n",
              "  </thead>\n",
              "  <tbody>\n",
              "    <tr>\n",
              "      <th>0</th>\n",
              "      <td>Amblyopia , otherwise known as ‘lazy eye’ , is...</td>\n",
              "      <td>Recovery from sensory deprivation is slow and ...</td>\n",
              "      <td>strip one eye of normal model vision during ea...</td>\n",
              "      <td>Depriving one eye of normal patterned vision d...</td>\n",
              "      <td>( A ) Responses to the contrast-modulated nois...</td>\n",
              "      <td>( A ; B : ; ; ; s--------------               ...</td>\n",
              "      <td>The visual system of the eye is made up of man...</td>\n",
              "      <td>The visual system is made up of many different...</td>\n",
              "      <td>The brain processes information in a variety o...</td>\n",
              "      <td>When we run, we need to be able to see the wor...</td>\n",
              "    </tr>\n",
              "    <tr>\n",
              "      <th>1</th>\n",
              "      <td>Surrounding every living cell is a biological ...</td>\n",
              "      <td>Membrane proteins are difficult to work with d...</td>\n",
              "      <td>Membrane proteins play essential roles , such ...</td>\n",
              "      <td>Membrane proteins are important for many tasks...</td>\n",
              "      <td>MalFGK2 ( 40 g ), FhuA ( 40 g ), and BRC ( 80 ...</td>\n",
              "      <td>5.,,,,,,,,,,,,,,,,,,,,,,,,,,,,,,,,,,,,,,,,,,,,...</td>\n",
              "      <td>Proteins are made up of many different protein...</td>\n",
              "      <td>Proteins are made up of many different types o...</td>\n",
              "      <td>Proteins are the building blocks of the cell, ...</td>\n",
              "      <td>Proteins are made up of chains of amino acids ...</td>\n",
              "    </tr>\n",
              "    <tr>\n",
              "      <th>2</th>\n",
              "      <td>The brain of a developing fetus has a big job ...</td>\n",
              "      <td>Spontaneous retinal waves are critical for the...</td>\n",
              "      <td>Throughout the central nervous system , before...</td>\n",
              "      <td>Specialized circuitry in the central nervous s...</td>\n",
              "      <td>To determine how the increasing speed, reliabi...</td>\n",
              "      <td>To::::::::::::::::: -</td>\n",
              "      <td>The nervous system is made up of neurons that ...</td>\n",
              "      <td>Retinoblastoma is a type of brain cancer that ...</td>\n",
              "      <td>In the brain, the thalamus, which is located i...</td>\n",
              "      <td>The visual system is made up of two parts: the...</td>\n",
              "    </tr>\n",
              "    <tr>\n",
              "      <th>3</th>\n",
              "      <td>On average , in Europe , men can currently exp...</td>\n",
              "      <td>Introduction: In Europe , women can expect to ...</td>\n",
              "      <td>Mortality projections are essential for figure...</td>\n",
              "      <td>Mortality projections are essential for predic...</td>\n",
              "      <td>However, given that the past trend in e0 for n...</td>\n",
              "      <td>However,,,,,,,,,,,,,,,,,,,,,,,,,,,,,,,,,,,,,,,...</td>\n",
              "      <td>In the United States, for example, the number ...</td>\n",
              "      <td>In the United States, for example, the number ...</td>\n",
              "      <td>Living longer is important for people’s health...</td>\n",
              "      <td>Life expectancy has been rising steadily in Eu...</td>\n",
              "    </tr>\n",
              "    <tr>\n",
              "      <th>4</th>\n",
              "      <td>A stem cell is a special cell that divides to ...</td>\n",
              "      <td>Epithelial stem cells divide asymmetrically , ...</td>\n",
              "      <td>Adult stem cell divisions produce asymmetric o...</td>\n",
              "      <td>Adult stem cell divisions usually produce two ...</td>\n",
              "      <td>To investigate whether the downregulation of E...</td>\n",
              "      <td>Specifically,,,,,,,,,,,,,,,,,,,,,,,,,,,,,,,,,,...</td>\n",
              "      <td>The epithelial lining of a fruit fly is made u...</td>\n",
              "      <td>The epithelial cells of the fruit fly Drosophi...</td>\n",
              "      <td>The human body contains many different types o...</td>\n",
              "      <td>The human body is made up of many different ty...</td>\n",
              "    </tr>\n",
              "    <tr>\n",
              "      <th>...</th>\n",
              "      <td>...</td>\n",
              "      <td>...</td>\n",
              "      <td>...</td>\n",
              "      <td>...</td>\n",
              "      <td>...</td>\n",
              "      <td>...</td>\n",
              "      <td>...</td>\n",
              "      <td>...</td>\n",
              "      <td>...</td>\n",
              "      <td>...</td>\n",
              "    </tr>\n",
              "    <tr>\n",
              "      <th>95</th>\n",
              "      <td>In female mammals , eggs made in the ovaries t...</td>\n",
              "      <td>Development of uterine endometrial receptivity...</td>\n",
              "      <td>In placental mammals , dressing and preimplant...</td>\n",
              "      <td>In eutherian mammals, fertilization and preimp...</td>\n",
              "      <td>Furthermore, when zygotes were recovered from ...</td>\n",
              "      <td>Furthermore,,,,,,,,,,,,,,,,,,,,,,,,,,,,,,,,,,,...</td>\n",
              "      <td>The placenta is the mother’s placenta, which i...</td>\n",
              "      <td>Embryonic development is a complex process tha...</td>\n",
              "      <td>The oviduct is a compartment of the uterus tha...</td>\n",
              "      <td>Many animals, including humans and mice, have ...</td>\n",
              "    </tr>\n",
              "    <tr>\n",
              "      <th>96</th>\n",
              "      <td>In the nucleus of a cell , the DNA that contai...</td>\n",
              "      <td>Human chromosomes terminate in telomeres , rep...</td>\n",
              "      <td>Linear human chromosome end in G-rich telomeri...</td>\n",
              "      <td>Chromosomes have G-rich telomeric repeat DNA a...</td>\n",
              "      <td>If the stimulation of telomerase RAP and telom...</td>\n",
              "      <td>Thus,,,,,,,,,,,,,,,,,,,,,,,,,,,,,,,,,,,,,,,,,,...</td>\n",
              "      <td>The DNA inside a cell is wrapped around a stru...</td>\n",
              "      <td>The DNA inside a cell is wrapped around a stru...</td>\n",
              "      <td>Telomeric DNA stretches along the length of a ...</td>\n",
              "      <td>The length of a cell’s DNA is determined by th...</td>\n",
              "    </tr>\n",
              "    <tr>\n",
              "      <th>97</th>\n",
              "      <td>Cells respond to stressful conditions by chang...</td>\n",
              "      <td>In yeast and humans , previous experiences can...</td>\n",
              "      <td>Epigenetic transcriptional memory is a mitotic...</td>\n",
              "      <td>Epigenetic transcriptional memory is a heritab...</td>\n",
              "      <td>ChIP-seq against H3K4me3 and H3K4me2 in wild t...</td>\n",
              "      <td>ChIPs H ;,,,,,,,,,,,,,,,,,,,,,,,,,,,,,,,,,,,,,...</td>\n",
              "      <td>Genes are made up of DNA, which contains the i...</td>\n",
              "      <td>Transcriptional memory is the process by which...</td>\n",
              "      <td>Genes are made up of hundreds of thousands of ...</td>\n",
              "      <td>Genes are made up of long stretches of DNA, wh...</td>\n",
              "    </tr>\n",
              "    <tr>\n",
              "      <th>98</th>\n",
              "      <td>The immune system protects against disease by ...</td>\n",
              "      <td>Naive T cell precursor frequency determines th...</td>\n",
              "      <td>An individual pathogen encode thousands of pot...</td>\n",
              "      <td>The study investigated the relationship betwee...</td>\n",
              "      <td>The exclusively enlarged V11+ MCC tetramer+ po...</td>\n",
              "      <td>The frequency of  ::::::::::::::::::::::::::::...</td>\n",
              "      <td>The immune system is made up of many different...</td>\n",
              "      <td>The immune system recognizes and responds to i...</td>\n",
              "      <td>The immune system is made up of many different...</td>\n",
              "      <td>The immune system protects the body from infec...</td>\n",
              "    </tr>\n",
              "    <tr>\n",
              "      <th>99</th>\n",
              "      <td>The lungs enable the exchange of gases between...</td>\n",
              "      <td>Alveolar formation increases the surface area ...</td>\n",
              "      <td>Gas exchange , the essential function of the l...</td>\n",
              "      <td>Gas exchange, an essential function of the lun...</td>\n",
              "      <td>We found that Vangl2f/f; Dermo1Cre/+ and Vangl...</td>\n",
              "      <td>Loss Van,,,,,,,,,,,,,,,,,,,,,,,,,,,,,,,,,,,,,,...</td>\n",
              "      <td>Alveolar is a type of cell that is found in th...</td>\n",
              "      <td>Alveolar is a type of lung cancer that is caus...</td>\n",
              "      <td>The lungs are a vital part of the body, and ar...</td>\n",
              "      <td>Alveolar cells, which make up the lining of th...</td>\n",
              "    </tr>\n",
              "  </tbody>\n",
              "</table>\n",
              "<p>100 rows × 10 columns</p>\n",
              "</div>\n",
              "      <button class=\"colab-df-convert\" onclick=\"convertToInteractive('df-d70221cd-72b1-476f-94f6-bbb518929699')\"\n",
              "              title=\"Convert this dataframe to an interactive table.\"\n",
              "              style=\"display:none;\">\n",
              "        \n",
              "  <svg xmlns=\"http://www.w3.org/2000/svg\" height=\"24px\"viewBox=\"0 0 24 24\"\n",
              "       width=\"24px\">\n",
              "    <path d=\"M0 0h24v24H0V0z\" fill=\"none\"/>\n",
              "    <path d=\"M18.56 5.44l.94 2.06.94-2.06 2.06-.94-2.06-.94-.94-2.06-.94 2.06-2.06.94zm-11 1L8.5 8.5l.94-2.06 2.06-.94-2.06-.94L8.5 2.5l-.94 2.06-2.06.94zm10 10l.94 2.06.94-2.06 2.06-.94-2.06-.94-.94-2.06-.94 2.06-2.06.94z\"/><path d=\"M17.41 7.96l-1.37-1.37c-.4-.4-.92-.59-1.43-.59-.52 0-1.04.2-1.43.59L10.3 9.45l-7.72 7.72c-.78.78-.78 2.05 0 2.83L4 21.41c.39.39.9.59 1.41.59.51 0 1.02-.2 1.41-.59l7.78-7.78 2.81-2.81c.8-.78.8-2.07 0-2.86zM5.41 20L4 18.59l7.72-7.72 1.47 1.35L5.41 20z\"/>\n",
              "  </svg>\n",
              "      </button>\n",
              "      \n",
              "  <style>\n",
              "    .colab-df-container {\n",
              "      display:flex;\n",
              "      flex-wrap:wrap;\n",
              "      gap: 12px;\n",
              "    }\n",
              "\n",
              "    .colab-df-convert {\n",
              "      background-color: #E8F0FE;\n",
              "      border: none;\n",
              "      border-radius: 50%;\n",
              "      cursor: pointer;\n",
              "      display: none;\n",
              "      fill: #1967D2;\n",
              "      height: 32px;\n",
              "      padding: 0 0 0 0;\n",
              "      width: 32px;\n",
              "    }\n",
              "\n",
              "    .colab-df-convert:hover {\n",
              "      background-color: #E2EBFA;\n",
              "      box-shadow: 0px 1px 2px rgba(60, 64, 67, 0.3), 0px 1px 3px 1px rgba(60, 64, 67, 0.15);\n",
              "      fill: #174EA6;\n",
              "    }\n",
              "\n",
              "    [theme=dark] .colab-df-convert {\n",
              "      background-color: #3B4455;\n",
              "      fill: #D2E3FC;\n",
              "    }\n",
              "\n",
              "    [theme=dark] .colab-df-convert:hover {\n",
              "      background-color: #434B5C;\n",
              "      box-shadow: 0px 1px 3px 1px rgba(0, 0, 0, 0.15);\n",
              "      filter: drop-shadow(0px 1px 2px rgba(0, 0, 0, 0.3));\n",
              "      fill: #FFFFFF;\n",
              "    }\n",
              "  </style>\n",
              "\n",
              "      <script>\n",
              "        const buttonEl =\n",
              "          document.querySelector('#df-d70221cd-72b1-476f-94f6-bbb518929699 button.colab-df-convert');\n",
              "        buttonEl.style.display =\n",
              "          google.colab.kernel.accessAllowed ? 'block' : 'none';\n",
              "\n",
              "        async function convertToInteractive(key) {\n",
              "          const element = document.querySelector('#df-d70221cd-72b1-476f-94f6-bbb518929699');\n",
              "          const dataTable =\n",
              "            await google.colab.kernel.invokeFunction('convertToInteractive',\n",
              "                                                     [key], {});\n",
              "          if (!dataTable) return;\n",
              "\n",
              "          const docLinkHtml = 'Like what you see? Visit the ' +\n",
              "            '<a target=\"_blank\" href=https://colab.research.google.com/notebooks/data_table.ipynb>data table notebook</a>'\n",
              "            + ' to learn more about interactive tables.';\n",
              "          element.innerHTML = '';\n",
              "          dataTable['output_type'] = 'display_data';\n",
              "          await google.colab.output.renderOutput(dataTable, element);\n",
              "          const docLink = document.createElement('div');\n",
              "          docLink.innerHTML = docLinkHtml;\n",
              "          element.appendChild(docLink);\n",
              "        }\n",
              "      </script>\n",
              "    </div>\n",
              "  </div>\n",
              "  "
            ]
          },
          "metadata": {},
          "execution_count": 82
        }
      ]
    }
  ]
}